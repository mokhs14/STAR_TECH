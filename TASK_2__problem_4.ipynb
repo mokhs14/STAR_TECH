{
  "cells": [
    {
      "cell_type": "markdown",
      "source": [
        "#JOTHIKA S\n",
        "#START TECH ACADEMY\n",
        "#TASK 2 PROBLEM 4\n",
        "#QUESTION :\n",
        "\n",
        "                  #To create a deep learning model that can detect if osteoarthritis is present or not in a given knee X-ray image\n",
        "\n"
      ],
      "metadata": {
        "id": "oJofEavJlkAe"
      }
    },
    {
      "cell_type": "code",
      "source": [
        "from google.colab import drive\n",
        "drive.mount('/content/drive')"
      ],
      "metadata": {
        "colab": {
          "base_uri": "https://localhost:8080/"
        },
        "id": "lvrQQtP24c-X",
        "outputId": "d86c3e46-82d4-4299-cfce-3c4de6cc761a"
      },
      "execution_count": 12,
      "outputs": [
        {
          "output_type": "stream",
          "name": "stdout",
          "text": [
            "Drive already mounted at /content/drive; to attempt to forcibly remount, call drive.mount(\"/content/drive\", force_remount=True).\n"
          ]
        }
      ]
    },
    {
      "cell_type": "code",
      "execution_count": null,
      "metadata": {
        "id": "EVARtMOJ29-l",
        "colab": {
          "base_uri": "https://localhost:8080/"
        },
        "outputId": "8b599dc0-23ed-4e3f-e3d7-2bc8be0d0fb4"
      },
      "outputs": [
        {
          "output_type": "stream",
          "name": "stdout",
          "text": [
            "Drive already mounted at /content/drive; to attempt to forcibly remount, call drive.mount(\"/content/drive\", force_remount=True).\n"
          ]
        }
      ],
      "source": [
        "from glob import glob\n",
        "import os\n",
        "import random\n",
        "import math\n",
        "\n",
        "import tensorflow as tf\n",
        "from tensorflow import keras\n",
        "from tensorflow.keras.layers import Input, Conv2D, Dense, Flatten, Dropout\n",
        "from tensorflow.keras.layers import GlobalMaxPooling2D, MaxPooling2D\n",
        "from tensorflow.keras.layers import BatchNormalization\n",
        "from tensorflow.keras.models import Model\n",
        "from tensorflow.keras.models import load_model, Model, Sequential\n",
        "import cv2,os\n",
        "from google.colab import drive\n",
        "drive.mount('/content/drive')\n",
        "data_path='/content/drive/MyDrive/Osteoarthritis/Osteoarthritis_Assignment_dataset'"
      ]
    },
    {
      "cell_type": "code",
      "execution_count": null,
      "metadata": {
        "id": "Y0jaqV3UOnav"
      },
      "outputs": [],
      "source": [
        "IMG_height = 224\n",
        "IMG_width = 224\n",
        "val_path=r'/content/drive/MyDrive/Osteoarthritis/Osteoarthritis_Assignment_dataset/Valid'\n",
        "test_path=r'/content/drive/MyDrive/Osteoarthritis/Osteoarthritis_Assignment_dataset/test'\n",
        "train_path=r'/content/drive/MyDrive/Osteoarthritis/Osteoarthritis_Assignment_dataset/train'"
      ]
    },
    {
      "cell_type": "code",
      "execution_count": null,
      "metadata": {
        "colab": {
          "base_uri": "https://localhost:8080/"
        },
        "id": "51KXSyu2PFru",
        "outputId": "66e0cc61-2778-4caa-f8e6-146c38a4d73c"
      },
      "outputs": [
        {
          "output_type": "stream",
          "name": "stdout",
          "text": [
            "Classes :  ['Osteoarthritis', 'Normal']\n",
            "Number of training images : {num_train}\n",
            "Number of validation images : {num_val}\n"
          ]
        }
      ],
      "source": [
        "classes = os.listdir(train_path)\n",
        "\n",
        "# Counting total number of images for training and valdation\n",
        "num_train = len(glob(train_path + '/*/*'))\n",
        "num_val = len(glob(val_path + '/*/*'))\n",
        "print('Classes : ', classes)\n",
        "print('Number of training images : {num_train}\\nNumber of validation images : {num_val}')"
      ]
    },
    {
      "cell_type": "code",
      "execution_count": null,
      "metadata": {
        "id": "gbUE7EN5PQP1"
      },
      "outputs": [],
      "source": [
        "# Loading images from image paths\n",
        "def parse_image(file_path):\n",
        "    image = tf.io.read_file(file_path)\n",
        "    image = tf.image.decode_png(image, channels=1)\n",
        "    image = tf.image.resize(image, [IMG_height, IMG_width])\n",
        "    image = tf.cast(image, tf.float32) / 255.0\n",
        "    return image"
      ]
    },
    {
      "cell_type": "code",
      "execution_count": null,
      "metadata": {
        "id": "FuEym9ESPTWe"
      },
      "outputs": [],
      "source": [
        "def make_dataset(path, batch_size):\n",
        "    \n",
        "    # Collecting all filepath in a directory\n",
        "    filenames = glob(path + '/*/*')\n",
        "    # Shuffling the dataset\n",
        "    random.shuffle(filenames)\n",
        "    # Extraction labels from fil paths(as numbers Normal:0, Osteoarthritis:1)\n",
        "    labels = [classes.index(name.split(os.path.sep)[-2]) for name in filenames]\n",
        "\n",
        "    # Creating instance of tf.data.dataset from filenames\n",
        "    filenames_ds = tf.data.Dataset.from_tensor_slices(filenames)\n",
        "    # loading files\n",
        "    images_ds = filenames_ds.map(parse_image, num_parallel_calls=tf.data.experimental.AUTOTUNE)\n",
        "    labels_ds = tf.data.Dataset.from_tensor_slices(labels)\n",
        "    images_ds = tf.data.Dataset.zip((images_ds, labels_ds))\n",
        "    images_ds = images_ds.shuffle(buffer_size=100)\n",
        "    images_ds = images_ds.batch(batch_size)\n",
        "    images_ds = images_ds.prefetch(buffer_size=tf.data.experimental.AUTOTUNE)\n",
        "\n",
        "    return images_ds"
      ]
    },
    {
      "cell_type": "code",
      "execution_count": null,
      "metadata": {
        "colab": {
          "base_uri": "https://localhost:8080/"
        },
        "id": "KuIQxZuKPaFX",
        "outputId": "68eaeb3a-8351-4eb0-a4cb-807282eb1649"
      },
      "outputs": [
        {
          "output_type": "stream",
          "name": "stdout",
          "text": [
            "CPU times: user 226 ms, sys: 28.3 ms, total: 254 ms\n",
            "Wall time: 588 ms\n"
          ]
        }
      ],
      "source": [
        "%%time\n",
        "ds_train = make_dataset(train_path, 32)\n",
        "ds_val = make_dataset(train_path, 32)\n",
        "ds_test = make_dataset(train_path, 128)\n"
      ]
    },
    {
      "cell_type": "code",
      "execution_count": null,
      "metadata": {
        "id": "pD4_taFpPhdp"
      },
      "outputs": [],
      "source": [
        "callbacks = [\n",
        "    keras.callbacks.EarlyStopping(\n",
        "        # Stop training when `val_loss` is no longer improving\n",
        "        monitor=\"val_loss\",\n",
        "        # \"no longer improving\" being defined as \"no better than 1e-2 less\"\n",
        "        min_delta=1e-2,\n",
        "        # \"no longer improving\" being further defined as \"for at least 2 epochs\"\n",
        "        patience=5,\n",
        "        verbose=1,\n",
        "    )\n",
        "]"
      ]
    },
    {
      "cell_type": "code",
      "execution_count": null,
      "metadata": {
        "id": "_VCR2qi2Pkh3"
      },
      "outputs": [],
      "source": [
        "def build_model_A():\n",
        "    batch_size = 32\n",
        "    num_classes = 2\n",
        "\n",
        "    i = Input(shape=(224, 224, 1))\n",
        "    x = Conv2D(32, (3, 3), activation='relu', padding='same')(i)\n",
        "    x = BatchNormalization()(x)\n",
        "    x = Conv2D(32, (3, 3), activation='relu', padding='same')(x)\n",
        "    x = BatchNormalization()(x)\n",
        "    x = MaxPooling2D((2, 2))(x)\n",
        "\n",
        "    x = Conv2D(64, (3, 3), activation='relu', padding='same')(x)\n",
        "    x = BatchNormalization()(x)\n",
        "    x = Conv2D(64, (3, 3), activation='relu', padding='same')(x)\n",
        "    x = BatchNormalization()(x)\n",
        "    x = MaxPooling2D((2, 2))(x)\n",
        "\n",
        "    x = Conv2D(128, (3, 3), activation='relu', padding='same')(x)\n",
        "    x = BatchNormalization()(x)\n",
        "    x = Conv2D(128, (3, 3), activation='relu', padding='same')(x)\n",
        "    x = BatchNormalization()(x)\n",
        "    x = MaxPooling2D((2, 2))(x)\n",
        "\n",
        "    x = Flatten()(x)\n",
        "    x = Dropout(0.2)(x)\n",
        "\n",
        "    # Hidden layer\n",
        "    x = Dense(512, activation='relu')(x)\n",
        "    x = Dropout(0.2)(x)\n",
        "\n",
        "    # last hidden layer i.e.. output layer\n",
        "    x = Dense(num_classes, activation='softmax')(x)\n",
        "\n",
        "    model = Model(i, x)\n",
        "\n",
        "    # model description\n",
        "    model.summary()\n",
        "\n",
        "    model.compile(optimizer=keras.optimizers.Adam(3e-4),\n",
        "                  loss='sparse_categorical_crossentropy',\n",
        "                  metrics=['accuracy'])\n",
        "\n",
        "    return model"
      ]
    },
    {
      "cell_type": "code",
      "execution_count": null,
      "metadata": {
        "colab": {
          "base_uri": "https://localhost:8080/"
        },
        "id": "I__2EKd8P41O",
        "outputId": "2683dee0-1705-484b-ab80-062909d49620"
      },
      "outputs": [
        {
          "output_type": "stream",
          "name": "stdout",
          "text": [
            "Model: \"model\"\n",
            "_________________________________________________________________\n",
            " Layer (type)                Output Shape              Param #   \n",
            "=================================================================\n",
            " input_1 (InputLayer)        [(None, 224, 224, 1)]     0         \n",
            "                                                                 \n",
            " conv2d (Conv2D)             (None, 224, 224, 32)      320       \n",
            "                                                                 \n",
            " batch_normalization (BatchN  (None, 224, 224, 32)     128       \n",
            " ormalization)                                                   \n",
            "                                                                 \n",
            " conv2d_1 (Conv2D)           (None, 224, 224, 32)      9248      \n",
            "                                                                 \n",
            " batch_normalization_1 (Batc  (None, 224, 224, 32)     128       \n",
            " hNormalization)                                                 \n",
            "                                                                 \n",
            " max_pooling2d (MaxPooling2D  (None, 112, 112, 32)     0         \n",
            " )                                                               \n",
            "                                                                 \n",
            " conv2d_2 (Conv2D)           (None, 112, 112, 64)      18496     \n",
            "                                                                 \n",
            " batch_normalization_2 (Batc  (None, 112, 112, 64)     256       \n",
            " hNormalization)                                                 \n",
            "                                                                 \n",
            " conv2d_3 (Conv2D)           (None, 112, 112, 64)      36928     \n",
            "                                                                 \n",
            " batch_normalization_3 (Batc  (None, 112, 112, 64)     256       \n",
            " hNormalization)                                                 \n",
            "                                                                 \n",
            " max_pooling2d_1 (MaxPooling  (None, 56, 56, 64)       0         \n",
            " 2D)                                                             \n",
            "                                                                 \n",
            " conv2d_4 (Conv2D)           (None, 56, 56, 128)       73856     \n",
            "                                                                 \n",
            " batch_normalization_4 (Batc  (None, 56, 56, 128)      512       \n",
            " hNormalization)                                                 \n",
            "                                                                 \n",
            " conv2d_5 (Conv2D)           (None, 56, 56, 128)       147584    \n",
            "                                                                 \n",
            " batch_normalization_5 (Batc  (None, 56, 56, 128)      512       \n",
            " hNormalization)                                                 \n",
            "                                                                 \n",
            " max_pooling2d_2 (MaxPooling  (None, 28, 28, 128)      0         \n",
            " 2D)                                                             \n",
            "                                                                 \n",
            " flatten (Flatten)           (None, 100352)            0         \n",
            "                                                                 \n",
            " dropout (Dropout)           (None, 100352)            0         \n",
            "                                                                 \n",
            " dense (Dense)               (None, 512)               51380736  \n",
            "                                                                 \n",
            " dropout_1 (Dropout)         (None, 512)               0         \n",
            "                                                                 \n",
            " dense_1 (Dense)             (None, 2)                 1026      \n",
            "                                                                 \n",
            "=================================================================\n",
            "Total params: 51,669,986\n",
            "Trainable params: 51,669,090\n",
            "Non-trainable params: 896\n",
            "_________________________________________________________________\n",
            "Model: \"model\"\n",
            "_________________________________________________________________\n",
            " Layer (type)                Output Shape              Param #   \n",
            "=================================================================\n",
            " input_1 (InputLayer)        [(None, 224, 224, 1)]     0         \n",
            "                                                                 \n",
            " conv2d (Conv2D)             (None, 224, 224, 32)      320       \n",
            "                                                                 \n",
            " batch_normalization (BatchN  (None, 224, 224, 32)     128       \n",
            " ormalization)                                                   \n",
            "                                                                 \n",
            " conv2d_1 (Conv2D)           (None, 224, 224, 32)      9248      \n",
            "                                                                 \n",
            " batch_normalization_1 (Batc  (None, 224, 224, 32)     128       \n",
            " hNormalization)                                                 \n",
            "                                                                 \n",
            " max_pooling2d (MaxPooling2D  (None, 112, 112, 32)     0         \n",
            " )                                                               \n",
            "                                                                 \n",
            " conv2d_2 (Conv2D)           (None, 112, 112, 64)      18496     \n",
            "                                                                 \n",
            " batch_normalization_2 (Batc  (None, 112, 112, 64)     256       \n",
            " hNormalization)                                                 \n",
            "                                                                 \n",
            " conv2d_3 (Conv2D)           (None, 112, 112, 64)      36928     \n",
            "                                                                 \n",
            " batch_normalization_3 (Batc  (None, 112, 112, 64)     256       \n",
            " hNormalization)                                                 \n",
            "                                                                 \n",
            " max_pooling2d_1 (MaxPooling  (None, 56, 56, 64)       0         \n",
            " 2D)                                                             \n",
            "                                                                 \n",
            " conv2d_4 (Conv2D)           (None, 56, 56, 128)       73856     \n",
            "                                                                 \n",
            " batch_normalization_4 (Batc  (None, 56, 56, 128)      512       \n",
            " hNormalization)                                                 \n",
            "                                                                 \n",
            " conv2d_5 (Conv2D)           (None, 56, 56, 128)       147584    \n",
            "                                                                 \n",
            " batch_normalization_5 (Batc  (None, 56, 56, 128)      512       \n",
            " hNormalization)                                                 \n",
            "                                                                 \n",
            " max_pooling2d_2 (MaxPooling  (None, 28, 28, 128)      0         \n",
            " 2D)                                                             \n",
            "                                                                 \n",
            " flatten (Flatten)           (None, 100352)            0         \n",
            "                                                                 \n",
            " dropout (Dropout)           (None, 100352)            0         \n",
            "                                                                 \n",
            " dense (Dense)               (None, 512)               51380736  \n",
            "                                                                 \n",
            " dropout_1 (Dropout)         (None, 512)               0         \n",
            "                                                                 \n",
            " dense_1 (Dense)             (None, 2)                 1026      \n",
            "                                                                 \n",
            "=================================================================\n",
            "Total params: 51,669,986\n",
            "Trainable params: 51,669,090\n",
            "Non-trainable params: 896\n",
            "_________________________________________________________________\n",
            "None\n"
          ]
        }
      ],
      "source": [
        "model = build_model_A()\n",
        "print(model.summary())"
      ]
    },
    {
      "cell_type": "code",
      "execution_count": 13,
      "metadata": {
        "id": "-KLY10cRP7wy",
        "colab": {
          "base_uri": "https://localhost:8080/"
        },
        "outputId": "9d3b9c21-ce85-4c03-9d19-ed85ab905d6e"
      },
      "outputs": [
        {
          "output_type": "stream",
          "name": "stdout",
          "text": [
            "Epoch 1/20\n",
            "74/74 [==============================] - 989s 13s/step - loss: 0.4961 - accuracy: 0.7626 - val_loss: 77.6298 - val_accuracy: 0.3482\n",
            "Epoch 2/20\n",
            "74/74 [==============================] - 980s 13s/step - loss: 0.3926 - accuracy: 0.8200 - val_loss: 76.0180 - val_accuracy: 0.3497\n",
            "Epoch 3/20\n",
            "74/74 [==============================] - 982s 13s/step - loss: 0.3093 - accuracy: 0.8591 - val_loss: 80.0467 - val_accuracy: 0.3467\n",
            "Epoch 4/20\n",
            "74/74 [==============================] - 990s 13s/step - loss: 0.2583 - accuracy: 0.8889 - val_loss: 52.6046 - val_accuracy: 0.3527\n",
            "Epoch 5/20\n",
            "74/74 [==============================] - 987s 13s/step - loss: 0.2170 - accuracy: 0.9072 - val_loss: 37.3826 - val_accuracy: 0.3839\n",
            "Epoch 6/20\n",
            "74/74 [==============================] - 987s 13s/step - loss: 0.1646 - accuracy: 0.9328 - val_loss: 16.3798 - val_accuracy: 0.5982\n",
            "Epoch 7/20\n",
            "74/74 [==============================] - 993s 13s/step - loss: 0.1492 - accuracy: 0.9370 - val_loss: 7.0970 - val_accuracy: 0.6548\n",
            "Epoch 8/20\n",
            "74/74 [==============================] - 992s 13s/step - loss: 0.1273 - accuracy: 0.9494 - val_loss: 3.4775 - val_accuracy: 0.7351\n",
            "Epoch 9/20\n",
            "74/74 [==============================] - 988s 13s/step - loss: 0.1066 - accuracy: 0.9617 - val_loss: 0.1337 - val_accuracy: 0.9554\n",
            "Epoch 10/20\n",
            "74/74 [==============================] - 989s 13s/step - loss: 0.0852 - accuracy: 0.9668 - val_loss: 0.0786 - val_accuracy: 0.9821\n",
            "Epoch 11/20\n",
            "74/74 [==============================] - 987s 13s/step - loss: 0.0997 - accuracy: 0.9685 - val_loss: 1.2952 - val_accuracy: 0.8065\n",
            "Epoch 12/20\n",
            "74/74 [==============================] - 1000s 14s/step - loss: 0.1199 - accuracy: 0.9545 - val_loss: 0.0698 - val_accuracy: 0.9717\n",
            "Epoch 13/20\n",
            "74/74 [==============================] - 1000s 14s/step - loss: 0.0681 - accuracy: 0.9740 - val_loss: 0.1254 - val_accuracy: 0.9494\n",
            "Epoch 14/20\n",
            "74/74 [==============================] - 995s 13s/step - loss: 0.0430 - accuracy: 0.9826 - val_loss: 0.0245 - val_accuracy: 0.9911\n",
            "Epoch 15/20\n",
            "74/74 [==============================] - 1000s 14s/step - loss: 0.0389 - accuracy: 0.9881 - val_loss: 0.0205 - val_accuracy: 0.9955\n",
            "Epoch 16/20\n",
            "74/74 [==============================] - 997s 13s/step - loss: 0.0242 - accuracy: 0.9919 - val_loss: 0.0227 - val_accuracy: 0.9911\n",
            "Epoch 17/20\n",
            "74/74 [==============================] - 996s 13s/step - loss: 0.0460 - accuracy: 0.9830 - val_loss: 0.0237 - val_accuracy: 0.9896\n",
            "Epoch 18/20\n",
            "74/74 [==============================] - 998s 13s/step - loss: 0.0358 - accuracy: 0.9855 - val_loss: 0.0489 - val_accuracy: 0.9821\n",
            "Epoch 19/20\n",
            "74/74 [==============================] - 1001s 14s/step - loss: 0.0734 - accuracy: 0.9779 - val_loss: 0.0820 - val_accuracy: 0.9792\n",
            "Epoch 19: early stopping\n"
          ]
        },
        {
          "output_type": "execute_result",
          "data": {
            "text/plain": [
              "<keras.callbacks.History at 0x7f919dd3e690>"
            ]
          },
          "metadata": {},
          "execution_count": 13
        }
      ],
      "source": [
        "# training model\n",
        "model.fit(ds_train, epochs=20, steps_per_epoch=math.ceil(num_train/32), \n",
        "          verbose=1, callbacks=callbacks, validation_data=ds_val,\n",
        "         validation_steps=math.ceil(num_val/32))"
      ]
    },
    {
      "cell_type": "code",
      "execution_count": 14,
      "metadata": {
        "id": "wqdOZkFzRKvJ"
      },
      "outputs": [],
      "source": [
        "model.save('model.h5')"
      ]
    },
    {
      "cell_type": "code",
      "execution_count": 15,
      "metadata": {
        "id": "r2rmyNnNQBG7",
        "colab": {
          "base_uri": "https://localhost:8080/"
        },
        "outputId": "9d9cfa38-c3cd-4ed3-a3aa-21cb9b512f46"
      },
      "outputs": [
        {
          "output_type": "stream",
          "name": "stdout",
          "text": [
            "19/19 [==============================] - 227s 11s/step - loss: 0.0763 - accuracy: 0.9774\n"
          ]
        },
        {
          "output_type": "execute_result",
          "data": {
            "text/plain": [
              "[0.07634277641773224, 0.9774467945098877]"
            ]
          },
          "metadata": {},
          "execution_count": 15
        }
      ],
      "source": [
        "# evaluating model\n",
        "model.evaluate(ds_test)"
      ]
    },
    {
      "cell_type": "code",
      "execution_count": 16,
      "metadata": {
        "id": "nmnK6NGXQFW4"
      },
      "outputs": [],
      "source": [
        "# saving model\n",
        "model.save('Osteoarthritis_Classifier.model', save_format='h5')"
      ]
    }
  ],
  "metadata": {
    "colab": {
      "collapsed_sections": [],
      "name": "TASK 2_ problem 4.ipynb",
      "provenance": []
    },
    "kernelspec": {
      "display_name": "Python 3",
      "name": "python3"
    },
    "language_info": {
      "name": "python"
    }
  },
  "nbformat": 4,
  "nbformat_minor": 0
}